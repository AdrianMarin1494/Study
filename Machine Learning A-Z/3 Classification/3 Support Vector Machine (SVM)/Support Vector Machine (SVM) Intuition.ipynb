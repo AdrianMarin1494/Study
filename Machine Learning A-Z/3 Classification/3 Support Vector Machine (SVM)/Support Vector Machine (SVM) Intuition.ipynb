{
 "cells": [
  {
   "cell_type": "markdown",
   "metadata": {},
   "source": [
    "## Support Vector Machine (SVM)\n",
    "\n",
    "Find the best line or the best decision boundary which will help us separate our space into classes.\n"
   ]
  }
 ],
 "metadata": {
  "language_info": {
   "name": "python"
  }
 },
 "nbformat": 4,
 "nbformat_minor": 2
}
