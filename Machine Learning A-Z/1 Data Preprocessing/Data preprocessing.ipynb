{
 "cells": [
  {
   "cell_type": "code",
   "execution_count": 1,
   "metadata": {},
   "outputs": [],
   "source": [
    "# Importing the libraries\n",
    "\n",
    "import numpy as np\n",
    "import matplotlib.pyplot as plt\n",
    "import pandas as pd"
   ]
  },
  {
   "cell_type": "code",
   "execution_count": 2,
   "metadata": {},
   "outputs": [],
   "source": [
    "# Importing the dataset\n",
    "\n",
    "# datasets have these entities: features and dependent variable vector\n",
    "# features (also called independent variables) are the columns used to predict the dependent variable\n",
    "dataset = pd.read_csv('Data.csv')\n",
    "\n",
    "# x = matrix of features\n",
    "# y = dependent variable vector\n",
    "\n",
    "# iloc = locate indexes, will take the indexes of the rows and the columns we want to extract from the dataset\n",
    "# : if is empty before and after :, it means the entire range, use to get all the rows\n",
    "X = dataset.iloc[:, :-1].values\n",
    "y = dataset.iloc[:, -1].values"
   ]
  },
  {
   "cell_type": "code",
   "execution_count": 7,
   "metadata": {},
   "outputs": [],
   "source": [
    "# Taking care of the missing data\n",
    "\n",
    "# If you have a big set of data with few missing data you can remove them\n",
    "# You can replace the missing values with the avreage (mean) of that column\n",
    "\n",
    "from sklearn.impute import SimpleImputer\n",
    "\n",
    "# Use SimpleImputer to complete the missing values: SimpleImputer()\n",
    "# First specify which missing values to replace. To replace all the missing values, use: missing_values=np.nan\n",
    "# The second argument specify how to be replaced: strategy='mean'\n",
    "imputer = SimpleImputer(missing_values=np.nan, strategy='mean')\n",
    "\n",
    "# Use the fit method to connect the imputer to the matrix of features\n",
    "# The fit method will look at the missing values and will compute the average\n",
    "# The general rule is to select only the numerical columns\n",
    "# use X[:, 1:3] to include all the rows, but only the numerical columns, exclude the string columns\n",
    "imputer.fit(X[:, 1:3])\n",
    "\n",
    "# Use the transform method to apply the transformation, to replace the missing values with the average value\n",
    "X[:, 1:3] = imputer.transform(X[:, 1:3])"
   ]
  },
  {
   "cell_type": "code",
   "execution_count": null,
   "metadata": {},
   "outputs": [],
   "source": [
    "# Encoding categorical data\n",
    "\n",
    "# Encode the strings into numbers\n",
    "# One hot encoding\n",
    "# Will turn the string column into more columns (how manny different items are in the column, that manny columns)\n",
    "# Create binary vectors for each item from the column\n",
    "\n",
    "# Encoding the independent variable\n",
    "# Encode using one hot encoding the Country column\n",
    "# We have 3 countries, so we will have 3 columns (if we would have 5 different countries, we would create 5 columns)\n",
    "\n",
    "from sklearn.compose import ColumnTransformer\n",
    "from sklearn.preprocessing import OneHotEncoder\n"
   ]
  }
 ],
 "metadata": {
  "kernelspec": {
   "display_name": "venv",
   "language": "python",
   "name": "python3"
  },
  "language_info": {
   "codemirror_mode": {
    "name": "ipython",
    "version": 3
   },
   "file_extension": ".py",
   "mimetype": "text/x-python",
   "name": "python",
   "nbconvert_exporter": "python",
   "pygments_lexer": "ipython3",
   "version": "3.8.2"
  }
 },
 "nbformat": 4,
 "nbformat_minor": 2
}
