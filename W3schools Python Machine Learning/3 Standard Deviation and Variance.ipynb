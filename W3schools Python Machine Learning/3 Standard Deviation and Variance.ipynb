{
 "cells": [
  {
   "cell_type": "markdown",
   "metadata": {},
   "source": [
    "## Standard Deviation\n",
    "\n",
    "Standard deviation is a number that describes how spread out the values are.\n",
    "\n",
    "A low standard deviation means that most of the numbers are close to the mean (average) value.\n",
    "\n",
    "A high standard deviation means that the values are spread out over a wider range.\n",
    "\n",
    "Example: \n",
    "\n",
    "speed = [86,87,88,86,87,85,86]\n",
    "\n",
    "The standard deviation is: 0.9. Meaning that most of the values are within the range of 0.9 from the mean value, which is 86.4.\n",
    "\n",
    "1. Calculate the mean:\n",
    "\n",
    "Mean = (86 + 87 + 88 + 86 + 87 + 85 + 86) / 7 = 605 / 7 ≈ 86.43\n",
    "\n",
    "2. Calculate the squared differences from the mean: Subtract the mean from each value in the dataset and square the result.\n",
    "\n",
    "(86 - 86.43)^2 ≈ 0.1849\n",
    "\n",
    "(87 - 86.43)^2 ≈ 0.3249\n",
    "\n",
    "(88 - 86.43)^2 ≈ 2.4961\n",
    "\n",
    "(86 - 86.43)^2 ≈ 0.1849\n",
    "\n",
    "(87 - 86.43)^2 ≈ 0.3249\n",
    "\n",
    "(85 - 86.43)^2 ≈ 2.0649\n",
    "\n",
    "(86 - 86.43)^2 ≈ 0.1849\n",
    "\n",
    "3. Calculate the variance: Sum up all the squared differences and divide by the total number of values.\n",
    "\n",
    "Variance = (0.1849 + 0.3249 + 2.4961 + 0.1849 + 0.3249 + 2.0649 + 0.1849) / 7 ≈ 0.9957\n",
    "\n",
    "4. Calculate the standard deviation: Take the square root of the variance.\n",
    "\n",
    "Standard deviation ≈ √0.9957 ≈ 0.9978 ≈ 0.9\n",
    "\n",
    "Standard Deviation is often represented by the symbol Sigma: σ"
   ]
  },
  {
   "cell_type": "code",
   "execution_count": 2,
   "metadata": {},
   "outputs": [
    {
     "name": "stdout",
     "output_type": "stream",
     "text": [
      "0.9035079029052513\n"
     ]
    }
   ],
   "source": [
    "# Use the NumPy std() method to find the standard deviation:\n",
    "\n",
    "import numpy\n",
    "\n",
    "speed = [86,87,88,86,87,85,86]\n",
    "\n",
    "x = numpy.std(speed)\n",
    "\n",
    "print(x)"
   ]
  },
  {
   "cell_type": "markdown",
   "metadata": {},
   "source": [
    "## Variance\n",
    "\n",
    "Variance is another number that indicates how spread out the values are.\n",
    "\n",
    "In fact, if you take the square root of the variance, you get the standard deviation!\n",
    "\n",
    "Or the other way around, if you multiply the standard deviation by itself, you get the variance!\n",
    "\n",
    "To calculate the variance you have to do as follows:\n",
    "\n",
    "1. Find the mean:\n",
    "\n",
    "(32+111+138+28+59+77+97) / 7 = 77.4\n",
    "\n",
    "2. For each value: find the difference from the mean:\n",
    "\n",
    " 32 - 77.4 = -45.4\n",
    "\n",
    "111 - 77.4 =  33.6\n",
    "\n",
    "138 - 77.4 =  60.6\n",
    "\n",
    " 28 - 77.4 = -49.4\n",
    "\n",
    " 59 - 77.4 = -18.4\n",
    "\n",
    " 77 - 77.4 = - 0.4\n",
    "\n",
    " 97 - 77.4 =  19.6\n",
    "\n",
    " 3. For each difference: find the square value:\n",
    "\n",
    " (-45.4)^2 = 2061.16\n",
    "\n",
    " (33.6)^2 = 1128.96\n",
    "\n",
    " (60.6)^2 = 3672.36\n",
    "\n",
    "(-49.4)^2 = 2440.36\n",
    "\n",
    "(-18.4)^2 =  338.56\n",
    "\n",
    "(- 0.4)^2 =    0.16\n",
    "\n",
    " (19.6)^2 =  384.16\n",
    "\n",
    " 4. The variance is the average number of these squared differences:\n",
    "\n",
    " (2061.16+1128.96+3672.36+2440.36+338.56+0.16+384.16) / 7 = 1432.2\n",
    "\n",
    "Standard Deviation\n",
    "\n",
    "The formula to find the standard deviation is the square root of the variance:\n",
    "\n",
    "√1432.25 = 37.85\n",
    "\n",
    "Variance is often represented by the symbol Sigma Squared: σ2"
   ]
  },
  {
   "cell_type": "code",
   "execution_count": 1,
   "metadata": {},
   "outputs": [
    {
     "name": "stdout",
     "output_type": "stream",
     "text": [
      "1432.2448979591834\n"
     ]
    }
   ],
   "source": [
    "import numpy\n",
    "\n",
    "speed = [32,111,138,28,59,77,97]\n",
    "\n",
    "x = numpy.var(speed)\n",
    "\n",
    "print(x)"
   ]
  }
 ],
 "metadata": {
  "kernelspec": {
   "display_name": "venv",
   "language": "python",
   "name": "python3"
  },
  "language_info": {
   "codemirror_mode": {
    "name": "ipython",
    "version": 3
   },
   "file_extension": ".py",
   "mimetype": "text/x-python",
   "name": "python",
   "nbconvert_exporter": "python",
   "pygments_lexer": "ipython3",
   "version": "3.8.2"
  }
 },
 "nbformat": 4,
 "nbformat_minor": 2
}
