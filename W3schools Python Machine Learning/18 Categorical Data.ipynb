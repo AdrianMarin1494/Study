{
 "cells": [
  {
   "cell_type": "markdown",
   "metadata": {},
   "source": [
    "## Categorical Data\n",
    "\n",
    "When your data has categories represented by strings, it will be difficult to use them to train machine learning models which often only accepts numeric data.\n",
    "\n",
    "Instead of ignoring the categorical data and excluding the information from our model, you can tranform the data so it can be used in your models."
   ]
  },
  {
   "cell_type": "markdown",
   "metadata": {},
   "source": [
    "## One Hot Encoding\n",
    "\n",
    "We cannot make use of the Car or Model column in our data since they are not numeric. A linear relationship between a categorical variable, Car or Model, and a numeric variable, CO2, cannot be determined.\n",
    "\n",
    "To fix this issue, we must have a numeric representation of the categorical variable. One way to do this is to have a column representing each group in the category.\n",
    "\n",
    "For each column, the values will be 1 or 0 where 1 represents the inclusion of the group and 0 represents the exclusion. This transformation is called one hot encoding.\n",
    "\n",
    "Pandas module has a function that called get_dummies() which does one hot encoding."
   ]
  },
  {
   "cell_type": "code",
   "execution_count": null,
   "metadata": {},
   "outputs": [],
   "source": [
    "# One Hot Encode the Car column:\n",
    "\n",
    "import pandas as pd\n",
    "\n",
    "cars = pd.read_csv('carsdata.csv')\n",
    "ohe_cars = pd.get_dummies(cars[['Car']])\n",
    "ohe_cars = ohe_cars.astype(int)\n",
    "print(ohe_cars.to_string())"
   ]
  },
  {
   "cell_type": "code",
   "execution_count": 14,
   "metadata": {},
   "outputs": [
    {
     "name": "stdout",
     "output_type": "stream",
     "text": [
      "[122.45153299]\n"
     ]
    },
    {
     "name": "stderr",
     "output_type": "stream",
     "text": [
      "c:\\Users\\Aditza\\projects\\Study\\venv\\lib\\site-packages\\sklearn\\base.py:465: UserWarning: X does not have valid feature names, but LinearRegression was fitted with feature names\n",
      "  warnings.warn(\n"
     ]
    }
   ],
   "source": [
    "import pandas\n",
    "from sklearn import linear_model\n",
    "\n",
    "cars = pandas.read_csv(\"carsdata.csv\")\n",
    "ohe_cars = pandas.get_dummies(cars[['Car']])\n",
    "# Select the independent variables (X) and add the dummy variables columnwise.\n",
    "X = pandas.concat([cars[['Volume', 'Weight']], ohe_cars], axis=1)\n",
    "# Store the dependent variable in y.\n",
    "y = cars['CO2']\n",
    "\n",
    "regr = linear_model.LinearRegression()\n",
    "regr.fit(X,y)\n",
    "\n",
    "##predict the CO2 emission of a Volvo where the weight is 2300kg, and the volume is 1300cm3:\n",
    "predictedCO2 = regr.predict([[2300, 1300,0,0,0,0,0,0,0,0,0,0,0,0,0,0,0,1,0]])\n",
    "\n",
    "print(predictedCO2)"
   ]
  },
  {
   "cell_type": "markdown",
   "metadata": {},
   "source": [
    "## Dummifying\n",
    "\n",
    "It is not necessary to create one column for each group in your category. The information can be retained using 1 column less than the number of groups you have."
   ]
  },
  {
   "cell_type": "code",
   "execution_count": 15,
   "metadata": {},
   "outputs": [
    {
     "name": "stdout",
     "output_type": "stream",
     "text": [
      "   color_red\n",
      "0      False\n",
      "1       True\n"
     ]
    }
   ],
   "source": [
    "# For example, you have a column representing colors and in that column, you have two colors, red and blue.\n",
    "# You can create 1 column called red where 1 represents red and 0 represents not red, which means it is blue.\n",
    "\n",
    "# We can use one hot encoding, get_dummies, and then drop one of the columns. \n",
    "# There is an argument, drop_first, which allows us to exclude the first column from the resulting table.\n",
    "\n",
    "import pandas as pd\n",
    "\n",
    "colors = pd.DataFrame({'color': ['blue', 'red']})\n",
    "dummies = pd.get_dummies(colors, drop_first=True)\n",
    "\n",
    "print(dummies)"
   ]
  },
  {
   "cell_type": "code",
   "execution_count": 18,
   "metadata": {},
   "outputs": [
    {
     "name": "stdout",
     "output_type": "stream",
     "text": [
      "   color_green  color_red  color\n",
      "0        False      False   blue\n",
      "1        False       True    red\n",
      "2         True      False  green\n"
     ]
    }
   ],
   "source": [
    "# What if you have more than 2 groups? How can the multiple groups be represented by 1 less column?\n",
    "# Let's say we have three colors this time, red, blue and green. \n",
    "# When we get_dummies while dropping the first column, we get the following table.\n",
    "\n",
    "import pandas as pd\n",
    "\n",
    "colors = pd.DataFrame({'color': ['blue', 'red', 'green']})\n",
    "dummies = pd.get_dummies(colors, drop_first=True)\n",
    "dummies['color'] = colors['color']\n",
    "\n",
    "print(dummies)"
   ]
  }
 ],
 "metadata": {
  "kernelspec": {
   "display_name": "venv",
   "language": "python",
   "name": "python3"
  },
  "language_info": {
   "codemirror_mode": {
    "name": "ipython",
    "version": 3
   },
   "file_extension": ".py",
   "mimetype": "text/x-python",
   "name": "python",
   "nbconvert_exporter": "python",
   "pygments_lexer": "ipython3",
   "version": "3.8.2"
  }
 },
 "nbformat": 4,
 "nbformat_minor": 2
}
