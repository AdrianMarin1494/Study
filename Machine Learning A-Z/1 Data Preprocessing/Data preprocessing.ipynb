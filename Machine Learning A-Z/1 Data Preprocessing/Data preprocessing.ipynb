{
 "cells": [
  {
   "cell_type": "code",
   "execution_count": 2,
   "metadata": {},
   "outputs": [],
   "source": [
    "# Importing the libraries\n",
    "\n",
    "import numpy as np\n",
    "import matplotlib.pyplot as plt\n",
    "import pandas as pd"
   ]
  },
  {
   "cell_type": "code",
   "execution_count": 3,
   "metadata": {},
   "outputs": [],
   "source": [
    "# Importing the dataset\n",
    "\n",
    "# datasets have these entities: features and dependent variable vector\n",
    "# features (also called independent variables) are the columns used to predict the dependent variable\n",
    "dataset = pd.read_csv('Data.csv')\n",
    "\n",
    "# x = matrix of features\n",
    "# y = dependent variable vector\n",
    "\n",
    "# iloc = locate indexes, will take the indexes of the rows and the columns we want to extract from the dataset\n",
    "# : if is empty before and after :, it means the entire range, use to get all the rows\n",
    "X = dataset.iloc[:, :-1].values\n",
    "y = dataset.iloc[:, -1].values"
   ]
  },
  {
   "cell_type": "code",
   "execution_count": 6,
   "metadata": {},
   "outputs": [
    {
     "name": "stdout",
     "output_type": "stream",
     "text": [
      "[['France' 44.0 72000.0]\n",
      " ['Spain' 27.0 48000.0]\n",
      " ['Germany' 30.0 54000.0]\n",
      " ['Spain' 38.0 61000.0]\n",
      " ['Germany' 40.0 63777.77777777778]\n",
      " ['France' 35.0 58000.0]\n",
      " ['Spain' 38.77777777777778 52000.0]\n",
      " ['France' 48.0 79000.0]\n",
      " ['Germany' 50.0 83000.0]\n",
      " ['France' 37.0 67000.0]]\n"
     ]
    }
   ],
   "source": [
    "# Taking care of the missing data\n",
    "\n",
    "# If you have a big set of data with few missing data you can remove them\n",
    "# You can replace the missing value with the avreage (mean) of that column\n",
    "\n",
    "from sklearn.impute import SimpleImputer\n",
    "\n",
    "# Use SimpleImputer to complete the missing values: SimpleImputer()\n",
    "# First specify which missing values to replace. To replace all the missing values, use: missing_values=np.nan\n",
    "# The second argument specify how to be replaced: strategy='mean'\n",
    "imputer = SimpleImputer(missing_values=np.nan, strategy='mean')\n",
    "\n",
    "# Use the fit method to connect the imputer to the matrix of features\n",
    "# The fit method will look at the missing values and will compute the average\n",
    "# The general rule is to select only the numerical columns\n",
    "# use X[:, 1:3] to include all the rows, but only the numerical columns, exclude the string columns\n",
    "imputer.fit(X[:, 1:3])\n",
    "\n",
    "# Use the transform method to apply the transformation, to replace the missing values with the average value\n",
    "X[:, 1:3] = imputer.transform(X[:, 1:3])"
   ]
  }
 ],
 "metadata": {
  "kernelspec": {
   "display_name": "venv",
   "language": "python",
   "name": "python3"
  },
  "language_info": {
   "codemirror_mode": {
    "name": "ipython",
    "version": 3
   },
   "file_extension": ".py",
   "mimetype": "text/x-python",
   "name": "python",
   "nbconvert_exporter": "python",
   "pygments_lexer": "ipython3",
   "version": "3.8.2"
  }
 },
 "nbformat": 4,
 "nbformat_minor": 2
}
