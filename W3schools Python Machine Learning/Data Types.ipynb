{
 "cells": [
  {
   "cell_type": "markdown",
   "metadata": {},
   "source": [
    "## Data Types\n",
    "\n",
    "We can split the data types into three main categories:\n",
    "\n",
    "#### Numerical\n",
    "#### Categorical\n",
    "#### Ordinal\n",
    "\n",
    "Numerical data can be split into two numerical categories:\n",
    "\n",
    "Discrete Data\n",
    "- counted data that are limited to integers. Example: The number of cars passing by.\n",
    "\n",
    "Continuous Data\n",
    "- measured data that can be any number. Example: The price of an item, or the size of an item\n",
    "\n",
    "Categorical data are values that cannot be measured up against each other. Example: a color value, or any yes/no values.\n",
    "\n",
    "Ordinal data are like categorical data, but can be measured up against each other. Example: school grades where A is better than B and so on."
   ]
  }
 ],
 "metadata": {
  "language_info": {
   "name": "python"
  }
 },
 "nbformat": 4,
 "nbformat_minor": 2
}
