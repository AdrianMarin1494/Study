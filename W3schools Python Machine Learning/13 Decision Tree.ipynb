{
 "cells": [
  {
   "cell_type": "markdown",
   "metadata": {},
   "source": [
    "## Decision Tree\n",
    "A Decision Tree is a Flow Chart, and can help you make decisions based on previous experience.\n",
    "\n",
    "To make a decision tree, all data has to be numerical."
   ]
  },
  {
   "cell_type": "markdown",
   "metadata": {},
   "source": [
    "## Gini\n",
    "\n",
    "Use the GINI method to split the samples\n",
    "\n",
    "The Gini method uses this formula:\n",
    "\n",
    "Gini = 1 - (x/n)2 - (y/n)2"
   ]
  },
  {
   "cell_type": "code",
   "execution_count": null,
   "metadata": {},
   "outputs": [],
   "source": [
    "# In the example, a person will try to decide if he/she should go to a comedy show or not.\n",
    "# We have to convert the non numerical columns 'Nationality' and 'Go' into numerical values.\n",
    "# Pandas has a map() method that takes a dictionary with information on how to convert the values.\n",
    "# {'UK': 0, 'USA': 1, 'N': 2}\n",
    "\n",
    "# Use the GINI method\n",
    "# Gini = 1 - (x/n)2 - (y/n)2\n",
    "# x is the number of positive answers(\"GO\"), \n",
    "# n is the number of samples,\n",
    "# y is the number of negative answers (\"NO\"), which gives us this calculation:\n",
    "# 1 - (7 / 13)2 - (6 / 13)2 = 0.497\n",
    "\n",
    "import pandas\n",
    "from sklearn import tree\n",
    "from sklearn.tree import DecisionTreeClassifier\n",
    "import matplotlib.pyplot as plt\n",
    "\n",
    "df = pandas.read_csv(\"data.csv\")\n",
    "\n",
    "d = {'UK': 0, 'USA': 1, 'N': 2}\n",
    "df['Nationality'] = df['Nationality'].map(d)\n",
    "d = {'YES': 1, 'NO': 0}\n",
    "df['Go'] = df['Go'].map(d)\n",
    "\n",
    "features = ['Age', 'Experience', 'Rank', 'Nationality']\n",
    "\n",
    "# We have to separate the feature columns from the target column.\n",
    "# The feature columns are the columns that we try to predict from, and the target column is the column with the values we try to predict.\n",
    "X = df[features]\n",
    "y = df['Go']\n",
    "\n",
    "dtree = DecisionTreeClassifier()\n",
    "dtree = dtree.fit(X, y)\n",
    "\n",
    "tree.plot_tree(dtree, feature_names=features)\n",
    "\n",
    "# The decision tree uses your earlier decisions to calculate the odds for you to wanting to go see a comedian or not.\n",
    "\n",
    "# Rank\n",
    "# Rank <= 6.5 means that every comedian with a rank of 6.5 or lower will follow the True arrow (to the left), and the rest will follow the False arrow (to the right).\n",
    "\n",
    "# gini = 0.497 refers to the quality of the split, and is always a number between 0.0 and 0.5, where 0.0 would mean all of the samples got the same result, and 0.5 would mean that the split is done exactly in the middle.\n",
    "\n",
    "# samples = 13 means that there are 13 comedians left at this point in the decision, which is all of them since this is the first step.\n",
    "\n",
    "# value = [6, 7] means that of these 13 comedians, 6 will get a \"NO\", and 7 will get a \"GO\".\n",
    "\n",
    "# We can use the Decision Tree to predict new values.\n",
    "# Use predict() method to predict new values:\n",
    "print(dtree.predict([[40, 10, 7, 1]]))"
   ]
  }
 ],
 "metadata": {
  "language_info": {
   "name": "python"
  }
 },
 "nbformat": 4,
 "nbformat_minor": 2
}
