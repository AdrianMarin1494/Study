{
 "cells": [
  {
   "cell_type": "markdown",
   "metadata": {},
   "source": [
    "## Classification\n",
    "\n",
    "Classification can be defined as a machine learning technique to identify the category of new observations based on training data.\n",
    "This is different to regression where we had to predict a continuous number.\n",
    "Here we use classification to predict a category.\n",
    "Another important thing is that it's a type of supervised learning algorithm.\n",
    "\n",
    "So for example, you have customers of a business and you would like to predict which ones are likely to stay and which ones are likely to leave. This is also called churn modeling.\n",
    "\n",
    "Another application is email. So for instance, if you get an email, it might be classified as normal mail or it might be classified as important, an urgent mail, it might have a special marker, especially if using Gmail you'll see those little chevrons or triangles at the beginning of a message saying that it's important. Or it might be categorized as a promotion and it might be put into a separate folder.\n",
    "We barely see any spam in our inboxes and that is thanks to classification algorithms.\n",
    "\n",
    "And another application is image recognition. So for instance, here we have images of dogs and cats.\n",
    "Classification would be able to separate dogs from cats."
   ]
  }
 ],
 "metadata": {
  "language_info": {
   "name": "python"
  }
 },
 "nbformat": 4,
 "nbformat_minor": 2
}
