{
 "cells": [
  {
   "cell_type": "code",
   "execution_count": 17,
   "metadata": {},
   "outputs": [],
   "source": [
    "# Importing the libraries\n",
    "\n",
    "import numpy as np\n",
    "import matplotlib.pyplot as plt\n",
    "import pandas as pd"
   ]
  },
  {
   "cell_type": "code",
   "execution_count": 18,
   "metadata": {},
   "outputs": [],
   "source": [
    "# Importing the dataset\n",
    "\n",
    "# datasets have these entities: features and dependent variable vector\n",
    "# features (also called independent variables) are the columns used to predict the dependent variable\n",
    "dataset = pd.read_csv('Data.csv')\n",
    "\n",
    "# x = matrix of features\n",
    "# y = dependent variable vector\n",
    "\n",
    "# iloc = locate indexes, will take the indexes of the rows and the columns we want to extract from the dataset\n",
    "# : if is empty before and after :, it means the entire range, use to get all the rows\n",
    "X = dataset.iloc[:, :-1].values\n",
    "y = dataset.iloc[:, -1].values"
   ]
  },
  {
   "cell_type": "code",
   "execution_count": 19,
   "metadata": {},
   "outputs": [
    {
     "name": "stdout",
     "output_type": "stream",
     "text": [
      "[['France' 44.0 72000.0]\n",
      " ['Spain' 27.0 48000.0]\n",
      " ['Germany' 30.0 54000.0]\n",
      " ['Spain' 38.0 61000.0]\n",
      " ['Germany' 40.0 nan]\n",
      " ['France' 35.0 58000.0]\n",
      " ['Spain' nan 52000.0]\n",
      " ['France' 48.0 79000.0]\n",
      " ['Germany' 50.0 83000.0]\n",
      " ['France' 37.0 67000.0]]\n"
     ]
    }
   ],
   "source": [
    "print(X)"
   ]
  },
  {
   "cell_type": "code",
   "execution_count": 20,
   "metadata": {},
   "outputs": [
    {
     "name": "stdout",
     "output_type": "stream",
     "text": [
      "['No' 'Yes' 'No' 'No' 'Yes' 'Yes' 'No' 'Yes' 'No' 'Yes']\n"
     ]
    }
   ],
   "source": [
    "print(y)"
   ]
  },
  {
   "cell_type": "code",
   "execution_count": 21,
   "metadata": {},
   "outputs": [],
   "source": [
    "# Taking care of the missing data\n",
    "\n",
    "# If you have a big set of data with few missing data you can remove them\n",
    "# You can replace the missing values with the avreage (mean) of that column\n",
    "\n",
    "from sklearn.impute import SimpleImputer\n",
    "\n",
    "# Use SimpleImputer to complete the missing values: SimpleImputer()\n",
    "# First specify which missing values to replace. To replace all the missing values, use: missing_values=np.nan\n",
    "# The second argument specify how to be replaced: strategy='mean'\n",
    "imputer = SimpleImputer(missing_values=np.nan, strategy='mean')\n",
    "\n",
    "# Use the fit method to connect the imputer to the matrix of features\n",
    "# The fit method will look at the missing values and will compute the average\n",
    "# The general rule is to select only the numerical columns\n",
    "# use X[:, 1:3] to include all the rows, but only the numerical columns, exclude the string columns\n",
    "imputer.fit(X[:, 1:3])\n",
    "\n",
    "# Use the transform method to apply the transformation, to replace the missing values with the average value\n",
    "X[:, 1:3] = imputer.transform(X[:, 1:3])"
   ]
  },
  {
   "cell_type": "code",
   "execution_count": 22,
   "metadata": {},
   "outputs": [
    {
     "name": "stdout",
     "output_type": "stream",
     "text": [
      "[['France' 44.0 72000.0]\n",
      " ['Spain' 27.0 48000.0]\n",
      " ['Germany' 30.0 54000.0]\n",
      " ['Spain' 38.0 61000.0]\n",
      " ['Germany' 40.0 63777.77777777778]\n",
      " ['France' 35.0 58000.0]\n",
      " ['Spain' 38.77777777777778 52000.0]\n",
      " ['France' 48.0 79000.0]\n",
      " ['Germany' 50.0 83000.0]\n",
      " ['France' 37.0 67000.0]]\n"
     ]
    }
   ],
   "source": [
    "print(X)"
   ]
  },
  {
   "cell_type": "code",
   "execution_count": 23,
   "metadata": {},
   "outputs": [],
   "source": [
    "# Encoding categorical data\n",
    "\n",
    "# Encode the strings into numbers\n",
    "# One hot encoding\n",
    "# Will turn the string column into more columns (how manny different items are in the column, that manny columns)\n",
    "# Create binary vectors for each item from the column\n",
    "\n",
    "# Encoding the independent variable\n",
    "# Encode using one hot encoding the Country column\n",
    "# We have 3 countries, so we will have 3 columns (if we would have 5 different countries, we would create 5 columns)\n",
    "\n",
    "from sklearn.compose import ColumnTransformer\n",
    "from sklearn.preprocessing import OneHotEncoder\n",
    "\n",
    "# ColumnTransformer gets 2 arguments: \n",
    "# first argument: transformers: \n",
    "# 1: we specify what kind of transformation (encoding), \n",
    "# 2: what kind of encoding (one hot encoding), \n",
    "# 3: the indexes columns we want to encode\n",
    "# second argument: reminder: which will specify that we actually want to keep the columns that won't be applied the transformation\n",
    "ct = ColumnTransformer(transformers=[('encoder', OneHotEncoder(), [0])], remainder='passthrough')\n",
    "\n",
    "# Connect the column transformer object to data by useing the fit_transform() method\n",
    "# The train function will expect the features X as an numpy array, so we transofrm the result to an np array\n",
    "X = np.array(ct.fit_transform(X))\n"
   ]
  },
  {
   "cell_type": "code",
   "execution_count": 24,
   "metadata": {},
   "outputs": [
    {
     "name": "stdout",
     "output_type": "stream",
     "text": [
      "[[1.0 0.0 0.0 44.0 72000.0]\n",
      " [0.0 0.0 1.0 27.0 48000.0]\n",
      " [0.0 1.0 0.0 30.0 54000.0]\n",
      " [0.0 0.0 1.0 38.0 61000.0]\n",
      " [0.0 1.0 0.0 40.0 63777.77777777778]\n",
      " [1.0 0.0 0.0 35.0 58000.0]\n",
      " [0.0 0.0 1.0 38.77777777777778 52000.0]\n",
      " [1.0 0.0 0.0 48.0 79000.0]\n",
      " [0.0 1.0 0.0 50.0 83000.0]\n",
      " [1.0 0.0 0.0 37.0 67000.0]]\n"
     ]
    }
   ],
   "source": [
    "print(X)"
   ]
  },
  {
   "cell_type": "code",
   "execution_count": 25,
   "metadata": {},
   "outputs": [],
   "source": [
    "# Encode the dependent variable\n",
    "\n",
    "from sklearn.preprocessing import LabelEncoder\n",
    "le = LabelEncoder()\n",
    "y = le.fit_transform(y)"
   ]
  },
  {
   "cell_type": "code",
   "execution_count": 26,
   "metadata": {},
   "outputs": [
    {
     "name": "stdout",
     "output_type": "stream",
     "text": [
      "[0 1 0 0 1 1 0 1 0 1]\n"
     ]
    }
   ],
   "source": [
    "print(y)"
   ]
  },
  {
   "cell_type": "code",
   "execution_count": 27,
   "metadata": {},
   "outputs": [],
   "source": [
    "# Spliting the dataset into Training set and Test set\n",
    "\n",
    "# Make 2 separate sets: \n",
    "# one training set for training the machine learning model on existing observations\n",
    "# one test set to evaluate the performance of your model on new observations, these new observations are like the future data you're gonna get\n",
    "# The recommended size of the split is: 80% train, 20% test\n",
    "\n",
    "from sklearn.model_selection import train_test_split\n",
    "X_train, X_test, y_train, y_test = train_test_split(X, y, test_size = 0.2, random_state = 1)"
   ]
  },
  {
   "cell_type": "code",
   "execution_count": 28,
   "metadata": {},
   "outputs": [
    {
     "name": "stdout",
     "output_type": "stream",
     "text": [
      "[[0.0 0.0 1.0 38.77777777777778 52000.0]\n",
      " [0.0 1.0 0.0 40.0 63777.77777777778]\n",
      " [1.0 0.0 0.0 44.0 72000.0]\n",
      " [0.0 0.0 1.0 38.0 61000.0]\n",
      " [0.0 0.0 1.0 27.0 48000.0]\n",
      " [1.0 0.0 0.0 48.0 79000.0]\n",
      " [0.0 1.0 0.0 50.0 83000.0]\n",
      " [1.0 0.0 0.0 35.0 58000.0]]\n"
     ]
    }
   ],
   "source": [
    "print(X_train)"
   ]
  },
  {
   "cell_type": "code",
   "execution_count": 29,
   "metadata": {},
   "outputs": [
    {
     "name": "stdout",
     "output_type": "stream",
     "text": [
      "[[0.0 1.0 0.0 30.0 54000.0]\n",
      " [1.0 0.0 0.0 37.0 67000.0]]\n"
     ]
    }
   ],
   "source": [
    "print(X_test)"
   ]
  },
  {
   "cell_type": "code",
   "execution_count": 30,
   "metadata": {},
   "outputs": [
    {
     "name": "stdout",
     "output_type": "stream",
     "text": [
      "[0 1 0 0 1 1 0 1]\n"
     ]
    }
   ],
   "source": [
    "print(y_train)"
   ]
  },
  {
   "cell_type": "code",
   "execution_count": 31,
   "metadata": {},
   "outputs": [
    {
     "name": "stdout",
     "output_type": "stream",
     "text": [
      "[0 1]\n"
     ]
    }
   ],
   "source": [
    "print(y_test)"
   ]
  },
  {
   "cell_type": "code",
   "execution_count": 32,
   "metadata": {},
   "outputs": [],
   "source": [
    "# Feature Scaling\n",
    "\n",
    "# Feature scaling consists of scaling all the features, to make sure they all take values in the same scale\n",
    "# We do this to prevent one feature to dominate the other, which would be neglected by the machine learning model\n",
    "\n",
    "# We have to apply feature scaling after spliting the dataset into training set and test set\n",
    "# Because the test set is supposed to be a brand new set \n",
    "# Feature scaling is a technique that will get the mean and the standard deviation of your feature. \n",
    "# If we apply before the split we will get the mean and the standard deviation of all the values, including these for test.\n",
    "\n",
    "# Feature scaling techniques: standardisation and normalisation\n",
    "\n",
    "# Standardisation\n",
    "# X_stand = (X - mean(X)) / standard_deviation(X)\n",
    "# Standardisation will result in values between -3 and 3\n",
    "# Standardisation works fine all the time\n",
    "\n",
    "# Normalisation\n",
    "# X_norm = (X - min(X)) / (max(X) - min(X))\n",
    "# Normalisation will result in values between 0 and 1\n",
    "# Normalisation is recommended when you have normal distribution in most of the features\n",
    "\n",
    "# Use standardisation\n",
    "\n",
    "from sklearn.preprocessing import StandardScaler\n",
    "sc = StandardScaler()\n",
    "\n",
    "# We don't have to apply feature scaling to the dummy variables in the matrix of features\n",
    "# The goal of the feature scaling is to have all the features values in the same range\n",
    "# Standardisation transofrms the values of the features between -3 and 3\n",
    "\n",
    "# The fit method: For each feature of X_train, compute the mean of the feature and then compute the standard deviation of the feature\n",
    "# The transform method will apply the standardisation formula for each feature value\n",
    "X_train[:,3:] = sc.fit_transform(X_train[:,3:])\n",
    "\n",
    "# Since the data for test is like new data, for this data will only apply tansofrm method\n",
    "# Because the featrues of the test set need to be scaled by the same scaler that was used on the training set\n",
    "# In order to make predictions that will be congruent with the way the model was trained \n",
    "# we need to apply the same scaler that was used on the training set onto the test set\n",
    "# So we can get the same transformation and some relevant predictions\n",
    "X_test[:,3:] = sc.transform(X_test[:,3:])\n"
   ]
  }
 ],
 "metadata": {
  "kernelspec": {
   "display_name": "venv",
   "language": "python",
   "name": "python3"
  },
  "language_info": {
   "codemirror_mode": {
    "name": "ipython",
    "version": 3
   },
   "file_extension": ".py",
   "mimetype": "text/x-python",
   "name": "python",
   "nbconvert_exporter": "python",
   "pygments_lexer": "ipython3",
   "version": "3.8.2"
  }
 },
 "nbformat": 4,
 "nbformat_minor": 2
}
